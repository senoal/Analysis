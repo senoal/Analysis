{
 "cells": [
  {
   "cell_type": "code",
   "execution_count": 143,
   "metadata": {},
   "outputs": [
    {
     "data": {
      "text/html": [
       "<div>\n",
       "<style scoped>\n",
       "    .dataframe tbody tr th:only-of-type {\n",
       "        vertical-align: middle;\n",
       "    }\n",
       "\n",
       "    .dataframe tbody tr th {\n",
       "        vertical-align: top;\n",
       "    }\n",
       "\n",
       "    .dataframe thead th {\n",
       "        text-align: right;\n",
       "    }\n",
       "</style>\n",
       "<table border=\"1\" class=\"dataframe\">\n",
       "  <thead>\n",
       "    <tr style=\"text-align: right;\">\n",
       "      <th></th>\n",
       "      <th>tanggal</th>\n",
       "      <th>provinsi</th>\n",
       "      <th>bagian</th>\n",
       "      <th>brand</th>\n",
       "      <th>jenis</th>\n",
       "      <th>cust_type</th>\n",
       "    </tr>\n",
       "  </thead>\n",
       "  <tbody>\n",
       "    <tr>\n",
       "      <th>0</th>\n",
       "      <td>2020-09-01</td>\n",
       "      <td>BALINUSRA</td>\n",
       "      <td>BALI BARAT</td>\n",
       "      <td>kartuAS</td>\n",
       "      <td>Diamond</td>\n",
       "      <td>B2C</td>\n",
       "    </tr>\n",
       "    <tr>\n",
       "      <th>1</th>\n",
       "      <td>2020-09-01</td>\n",
       "      <td>BALINUSRA</td>\n",
       "      <td>BALI BARAT</td>\n",
       "      <td>KartuAS</td>\n",
       "      <td>Gold</td>\n",
       "      <td>B2C</td>\n",
       "    </tr>\n",
       "    <tr>\n",
       "      <th>2</th>\n",
       "      <td>2020-09-01</td>\n",
       "      <td>BALINUSRA</td>\n",
       "      <td>BALI BARAT</td>\n",
       "      <td>kartuAS</td>\n",
       "      <td>Non HVC</td>\n",
       "      <td>B2B</td>\n",
       "    </tr>\n",
       "    <tr>\n",
       "      <th>3</th>\n",
       "      <td>2020-09-01</td>\n",
       "      <td>BALINUSRA</td>\n",
       "      <td>BALI BARAT</td>\n",
       "      <td>kartuAS</td>\n",
       "      <td>Non HVC</td>\n",
       "      <td>B2C</td>\n",
       "    </tr>\n",
       "    <tr>\n",
       "      <th>4</th>\n",
       "      <td>2020-09-01</td>\n",
       "      <td>BALINUSRA</td>\n",
       "      <td>BALI BARAT</td>\n",
       "      <td>kartuAS</td>\n",
       "      <td>Platinum</td>\n",
       "      <td>B2C</td>\n",
       "    </tr>\n",
       "  </tbody>\n",
       "</table>\n",
       "</div>"
      ],
      "text/plain": [
       "      tanggal   provinsi      bagian    brand     jenis cust_type\n",
       "0  2020-09-01  BALINUSRA  BALI BARAT  kartuAS   Diamond       B2C\n",
       "1  2020-09-01  BALINUSRA  BALI BARAT  KartuAS      Gold       B2C\n",
       "2  2020-09-01  BALINUSRA  BALI BARAT  kartuAS   Non HVC       B2B\n",
       "3  2020-09-01  BALINUSRA  BALI BARAT  kartuAS   Non HVC       B2C\n",
       "4  2020-09-01  BALINUSRA  BALI BARAT  kartuAS  Platinum       B2C"
      ]
     },
     "execution_count": 143,
     "metadata": {},
     "output_type": "execute_result"
    }
   ],
   "source": [
    "import pandas as pd\n",
    "import matplotlib.pyplot as plt\n",
    "\n",
    "# periksa data\n",
    "data = pd.read_excel ('provider.xlsx')\n",
    "data.head(5)"
   ]
  },
  {
   "cell_type": "code",
   "execution_count": 153,
   "metadata": {},
   "outputs": [],
   "source": [
    "# Ambil data jenis untuk seluruh daerah menggunakan data.loc[data['jenis']\n",
    "# Ambil data dari setiap jenis\n",
    "non_hvc_ = data.loc[data['jenis'] == 'Non HVC'].count()\n",
    "a = non_hvc_.loc['jenis']\n",
    "\n",
    "platinum = data.loc[data['jenis'] == 'Platinum'].count()\n",
    "b = platinum.loc['jenis']\n",
    "\n",
    "gold = data.loc[data['jenis'] == 'Gold'].count()\n",
    "c = gold.loc['jenis']\n",
    "\n",
    "diamond = data.loc[data['jenis'] == 'Diamond'].count()\n",
    "d = diamond.loc['jenis']\n",
    "\n",
    "# Terjemahkan data ke dalam plot\n",
    "labels = 'Non HVC', 'Platinum', 'Gold', 'Diamond'\n",
    "sizes = [a, b, c, d]\n",
    "colors = ['gold', 'yellowgreen', 'lightcoral', 'lightskyblue']\n",
    "explode = (0.07, 0.03, 0.03, 0.02)  # explode 1st slice\n"
   ]
  },
  {
   "cell_type": "code",
   "execution_count": 155,
   "metadata": {},
   "outputs": [],
   "source": [
    "# Ambil data daerah (Bali)\n",
    "bali = data.loc[data['provinsi']=='BALINUSRA']\n",
    "# bali\n",
    "# bali['jenis'].value_counts()\n",
    "\n",
    "import matplotlib.pyplot as plt\n",
    "\n",
    "# ambil data dari masing-masing 'jenis' level provider\n",
    "data_bali = bali\n",
    "non_hvc_bali = data_bali.loc[data_bali['jenis'] == 'Non HVC'].count()\n",
    "e = non_hvc_bali.loc['jenis']\n",
    "\n",
    "platinum_bali = data_bali.loc[data_bali['jenis'] == 'Platinum'].count()\n",
    "f = platinum_bali.loc['jenis']\n",
    "\n",
    "gold_bali = data_bali.loc[data_bali['jenis'] == 'Gold'].count()\n",
    "g = gold_bali.loc['jenis']\n",
    "\n",
    "diamond_bali = data_bali.loc[data_bali['jenis'] == 'Diamond'].count()\n",
    "h = diamond_bali.loc['jenis']\n",
    "\n",
    "# Terjemahkan data ke dalam plot\n",
    "labels = 'Diamond', 'Gold', 'Non HVC', 'Platinum'\n",
    "sizes = [e, f, g, h]\n",
    "colors = ['gold', 'yellowgreen', 'lightcoral', 'lightskyblue']\n",
    "explode = (0.07, 0.03, 0.03, 0.02)  # explode 1st slice"
   ]
  },
  {
   "cell_type": "code",
   "execution_count": 160,
   "metadata": {},
   "outputs": [
    {
     "data": {
      "image/png": "[encoded data removed]",
      "text/plain": [
       "<Figure size 432x288 with 1 Axes>"
      ]
     },
     "metadata": {},
     "output_type": "display_data"
    },
    {
     "name": "stdout",
     "output_type": "stream",
     "text": [
      "Data Keseluruhan\n",
      "           jenis\n",
      "Non HVC    4106\n",
      "Gold       1990\n",
      "Platinum   1970\n",
      "Diamond    1934\n"
     ]
    },
    {
     "data": {
      "image/png": "[encoded data removed]",
      "text/plain": [
       "<Figure size 432x288 with 1 Axes>"
      ]
     },
     "metadata": {},
     "output_type": "display_data"
    },
    {
     "name": "stdout",
     "output_type": "stream",
     "text": [
      "Data Daerah Bali\n",
      "           jenis\n",
      "Non HVC     223\n",
      "Platinum    102\n",
      "Gold        102\n",
      "Diamond      96\n"
     ]
    }
   ],
   "source": [
    "# Plot Keseluruhan\n",
    "plt.pie(sizes, explode=explode, labels=labels, colors=colors,\n",
    "autopct='%1.1f%%', shadow=True, startangle=140)\n",
    "plt.title('-Persentase Data Total-\\n')\n",
    "plt.axis('equal')\n",
    "plt.show()\n",
    "df_total = pd.DataFrame(data['jenis'].value_counts())\n",
    "print('Data Keseluruhan\\n',df_total)\n",
    "\n",
    "# Plot Daerah Bali\n",
    "plt.pie(sizes, explode=explode, labels=labels, colors=colors,\n",
    "autopct='%1.1f%%', shadow=True, startangle=140)\n",
    "plt.title('Persentase Data Daerah Bali')\n",
    "plt.axis('equal')\n",
    "plt.show()\n",
    "\n",
    "df_bali = pd.DataFrame(data_bali['jenis'].value_counts())\n",
    "print('Data Daerah Bali\\n',df_bali)"
   ]
  },
  {
   "cell_type": "code",
   "execution_count": null,
   "metadata": {},
   "outputs": [],
   "source": []
  },
  {
   "cell_type": "code",
   "execution_count": null,
   "metadata": {},
   "outputs": [],
   "source": []
  },
  {
   "cell_type": "code",
   "execution_count": null,
   "metadata": {},
   "outputs": [],
   "source": []
  }
 ],
 "metadata": {
  "kernelspec": {
   "display_name": "Python 3",
   "language": "python",
   "name": "python3"
  },
  "language_info": {
   "codemirror_mode": {
    "name": "ipython",
    "version": 3
   },
   "file_extension": ".py",
   "mimetype": "text/x-python",
   "name": "python",
   "nbconvert_exporter": "python",
   "pygments_lexer": "ipython3",
   "version": "3.7.6"
  }
 },
 "nbformat": 4,
 "nbformat_minor": 4
}
